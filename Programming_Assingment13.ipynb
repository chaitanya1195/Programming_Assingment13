{
 "cells": [
  {
   "cell_type": "code",
   "execution_count": 17,
   "id": "c7a90b04",
   "metadata": {},
   "outputs": [
    {
     "name": "stdout",
     "output_type": "stream",
     "text": [
      "Enter values of D with commas: 100,150,180\n",
      "Q for D = 100 is 18.0\n",
      "Q for D = 150 is 22.0\n",
      "Q for D = 180 is 24.0\n"
     ]
    }
   ],
   "source": [
    "#Question 1:\n",
    "\n",
    "#Write a program that calculates and prints the value according to the given formula:\n",
    "#Q = Square root of [(2 * C * D)/H]\n",
    "#Following are the fixed values of C and H:\n",
    "#C is 50. H is 30.\n",
    "#D is the variable whose values should be input to your program in a comma-separated sequence.\n",
    "#Example\n",
    "#Let us assume the following comma separated input sequence is given to the program:\n",
    "#100,150,180\n",
    "#The output of the program should be:\n",
    "#18,22,24\n",
    "\n",
    "import math\n",
    "\n",
    "#fixed values of C and H\n",
    "C = 50\n",
    "H = 30\n",
    "\n",
    "#get input of D as a comma-separated string and split it into a list of integers\n",
    "d_input = input('Enter values of D with commas: ')\n",
    "\n",
    "#split the input values string into a list of interge values\n",
    "d_values = d_input.split(\",\")\n",
    "d_values = [int(d) for d in d_values]\n",
    "\n",
    "#create an empty list to store the calculated values of Q\n",
    "q_values = []\n",
    "\n",
    "#iterate over each value of D in the list\n",
    "for d in d_values:\n",
    "    #calculate the value of Q using the given formula\n",
    "    Q = math.sqrt((2*C*d)/H)\n",
    "    print(f\"Q for D = {d} is {round(Q,0)}\")\n",
    "\n",
    "\n",
    "\n"
   ]
  },
  {
   "cell_type": "code",
   "execution_count": 18,
   "id": "2abd627d",
   "metadata": {},
   "outputs": [
    {
     "name": "stdout",
     "output_type": "stream",
     "text": [
      "Enter the values of X and Y separated by a comma: 3,5\n",
      "[[0, 0, 0, 0, 0], [0, 1, 2, 3, 4], [0, 2, 4, 6, 8]]\n"
     ]
    }
   ],
   "source": [
    "#Question 2:\n",
    "#Write a program which takes 2 digits, X,Y as input and generates a 2-dimensional array. The element value in the i-th row and j-th column of the array should be i*j.\n",
    "#Note: i=0,1.., X-1; j=0,1,..,Y-1.\n",
    "#Example\n",
    "#Suppose the following inputs are given to the program:\n",
    "#3,5\n",
    "#Then, the output of the program should be:\n",
    "#[[0, 0, 0, 0, 0], [0, 1, 2, 3, 4], [0, 2, 4, 6, 8]] \n",
    "\n",
    "# Get input of X and Y as integers\n",
    "X, Y = map(int, input(\"Enter the values of X and Y separated by a comma: \").split(\",\"))\n",
    "\n",
    "# Create a 2D array filled with zeroes\n",
    "arr = [[0 for j in range(Y)] for i in range(X)]\n",
    "\n",
    "# Fill in the values for each element in the array\n",
    "for i in range(X):\n",
    "    for j in range(Y):\n",
    "        arr[i][j] = i * j\n",
    "\n",
    "# Print the resulting array\n",
    "print(arr)\n",
    "\n"
   ]
  },
  {
   "cell_type": "code",
   "execution_count": 20,
   "id": "2d2290e7",
   "metadata": {},
   "outputs": [
    {
     "name": "stdout",
     "output_type": "stream",
     "text": [
      "Enter a comma-separated sequence of words: without,hello,bag,world\n",
      "bag,hello,without,world\n"
     ]
    }
   ],
   "source": [
    "#Question 3:\n",
    "#Write a program that accepts a comma separated sequence of words as input and prints the words in a comma-separated sequence after sorting them alphabetically.\n",
    "#Suppose the following input is supplied to the program:\n",
    "#without,hello,bag,world\n",
    "#Then, the output should be:\n",
    "#bag,hello,without,world\n",
    "\n",
    "words = input(\"Enter a comma-separated sequence of words: \").split(\",\")\n",
    "words.sort()\n",
    "sorted_words = \",\".join(words)\n",
    "print(sorted_words)\n"
   ]
  },
  {
   "cell_type": "code",
   "execution_count": 21,
   "id": "d15a439a",
   "metadata": {},
   "outputs": [
    {
     "name": "stdout",
     "output_type": "stream",
     "text": [
      "Enter a sequence of whitespace-separated words: hello world and practice makes perfect and hello world again\n",
      "again and hello makes perfect practice world\n"
     ]
    }
   ],
   "source": [
    "#Question 4:\n",
    "#Write a program that accepts a sequence of whitespace separated words as input and prints the words after removing all duplicate words and sorting them alphanumerically.\n",
    "#Suppose the following input is supplied to the program:\n",
    "#hello world and practice makes perfect and hello world again\n",
    "#Then, the output should be:\n",
    "#again and hello makes perfect practice world\n",
    "\n",
    "words = input(\"Enter a sequence of whitespace-separated words: \").split()\n",
    "unique_words = list(set(words))\n",
    "unique_words.sort()\n",
    "result = \" \".join(unique_words)\n",
    "print(result)\n",
    "\n",
    "\n"
   ]
  },
  {
   "cell_type": "code",
   "execution_count": 22,
   "id": "89b8ae6a",
   "metadata": {},
   "outputs": [
    {
     "name": "stdout",
     "output_type": "stream",
     "text": [
      "Enter a sentence: cheran @1234\n",
      "LETTERS 6\n",
      "DIGITS 4\n"
     ]
    }
   ],
   "source": [
    "#Question 5:\n",
    "#Write a program that accepts a sentence and calculate the number of letters and digits.\n",
    "#Suppose the following input is supplied to the program:\n",
    "#hello world! 123\n",
    "#Then, the output should be:\n",
    "#LETTERS 10\n",
    "#DIGITS 3\n",
    "\n",
    "sentence = input(\"Enter a sentence: \")\n",
    "letter_count = 0\n",
    "digit_count = 0\n",
    "for char in sentence:\n",
    "    if char.isalpha():\n",
    "        letter_count += 1\n",
    "    elif char.isdigit():\n",
    "        digit_count += 1\n",
    "print(\"LETTERS\", letter_count)\n",
    "print(\"DIGITS\", digit_count)\n",
    "\n"
   ]
  },
  {
   "cell_type": "code",
   "execution_count": 23,
   "id": "9dbf3b64",
   "metadata": {},
   "outputs": [
    {
     "name": "stdout",
     "output_type": "stream",
     "text": [
      "Enter comma-separated passwords: ABd1234@1,a F1#,2w3E*,2We3345\n",
      "ABd1234@1\n"
     ]
    }
   ],
   "source": [
    "#A website requires the users to input username and password to register. Write a program to check the validity of password input by users.\n",
    "#Following are the criteria for checking the password:\n",
    "#1. At least 1 letter between [a-z]\n",
    "#2. At least 1 number between [0-9]\n",
    "#1. At least 1 letter between [A-Z]\n",
    "#3. At least 1 character from [$#@]\n",
    "#4. Minimum length of transaction password: 6\n",
    "#5. Maximum length of transaction password: 12\n",
    "#Your program should accept a sequence of comma separated passwords and will check them according to the above criteria. Passwords that match the criteria are to be printed, each separated by a comma.\n",
    "#Example\n",
    "#If the following passwords are given as input to the program:\n",
    "#ABd1234@1,a F1#,2w3E*,2We3345\n",
    "#Then, the output of the program should be:\n",
    "#ABd1234@1\n",
    "\n",
    "import re\n",
    "\n",
    "def check_password(password):\n",
    "    if len(password) < 6 or len(password) > 12:\n",
    "        return False\n",
    "    if not re.search(\"[a-z]\", password):\n",
    "        return False\n",
    "    if not re.search(\"[A-Z]\", password):\n",
    "        return False\n",
    "    if not re.search(\"[0-9]\", password):\n",
    "        return False\n",
    "    if not re.search(\"[$#@]\", password):\n",
    "        return False\n",
    "    return True\n",
    "\n",
    "passwords = input(\"Enter comma-separated passwords: \").split(\",\")\n",
    "valid_passwords = []\n",
    "for password in passwords:\n",
    "    if check_password(password):\n",
    "        valid_passwords.append(password)\n",
    "print(\",\".join(valid_passwords))\n"
   ]
  },
  {
   "cell_type": "code",
   "execution_count": null,
   "id": "4299b878",
   "metadata": {},
   "outputs": [],
   "source": []
  }
 ],
 "metadata": {
  "kernelspec": {
   "display_name": "Python 3 (ipykernel)",
   "language": "python",
   "name": "python3"
  },
  "language_info": {
   "codemirror_mode": {
    "name": "ipython",
    "version": 3
   },
   "file_extension": ".py",
   "mimetype": "text/x-python",
   "name": "python",
   "nbconvert_exporter": "python",
   "pygments_lexer": "ipython3",
   "version": "3.9.13"
  }
 },
 "nbformat": 4,
 "nbformat_minor": 5
}
